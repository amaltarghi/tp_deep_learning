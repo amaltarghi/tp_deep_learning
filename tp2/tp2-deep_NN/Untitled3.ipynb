{
 "cells": [
  {
   "cell_type": "code",
   "execution_count": 4,
   "metadata": {
    "collapsed": false
   },
   "outputs": [],
   "source": [
    "def dropout(p,h,hp=None):\n",
    "    \"\"\"\n",
    "        Perform the dropout transformation to the activation values\n",
    "\n",
    "        :param p: the probability of dropout\n",
    "        :param h: the activation values\n",
    "        :param hp: the derivatives w.r.t. the pre-activation values\n",
    "        :type p: float\n",
    "        :type h: ndarray\n",
    "        :type hp: ndarray\n",
    "        :return mask: the bernoulli mask\n",
    "        :return h: the transformed activation values\n",
    "        :return hp: the transformed derivatives w.r.t. z\n",
    "        :rtype h: ndarray\n",
    "        :rtype hp: ndarray\n",
    "    \"\"\"\n",
    "\n",
    "    mask = np.random.binomial(h.size,p)\n",
    "    h = np.multiply(h,mask)\n",
    "    hp = np.multiply(hp,mask)\n",
    "    return mask,h,hp\n"
   ]
  },
  {
   "cell_type": "code",
   "execution_count": 16,
   "metadata": {
    "collapsed": false
   },
   "outputs": [
    {
     "data": {
      "text/plain": [
       "47"
      ]
     },
     "execution_count": 16,
     "metadata": {},
     "output_type": "execute_result"
    }
   ],
   "source": [
    "import numpy as np\n",
    "\n",
    "mask = np.random.binomial(50,0.9)\n",
    "mask"
   ]
  }
 ],
 "metadata": {
  "kernelspec": {
   "display_name": "Python 2",
   "language": "python",
   "name": "python2"
  },
  "language_info": {
   "codemirror_mode": {
    "name": "ipython",
    "version": 2
   },
   "file_extension": ".py",
   "mimetype": "text/x-python",
   "name": "python",
   "nbconvert_exporter": "python",
   "pygments_lexer": "ipython2",
   "version": "2.7.12"
  }
 },
 "nbformat": 4,
 "nbformat_minor": 1
}
