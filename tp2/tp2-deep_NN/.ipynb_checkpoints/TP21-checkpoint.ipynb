{
 "cells": [
  {
   "cell_type": "markdown",
   "metadata": {},
   "source": [
    "# TP2 : MiniNN Notebook "
   ]
  },
  {
   "cell_type": "markdown",
   "metadata": {},
   "source": [
    "7 décembre 2016  \n",
    "Adapté du TP de Gaétan Marceau-Caron"
   ]
  },
  {
   "cell_type": "markdown",
   "metadata": {},
   "source": [
    "## Introduction\n",
    "\n",
    "Au cours du TP1, nous avons étudié le modèle _Softmax_ (aussi connu sous le nom de MaxEnt) pour traiter le problème de classification probabiliste.\n",
    "Le but était de présenter deux étapes importantes de l'entraînement: la {\\it forward propagation} et la mise à jour des paramètres.\n",
    "Le TP2 reprend le modèle Softmax dans un cadre plus général, celui des réseaux de neurones avec couches cachées.\n",
    "\n",
    "Dans ce cadre, on peut considérer le modèle Softmax comme un \"module\" qui prend en entrée des \"features\", e.g. les pixels d'une image, et qui donne en sortie une loi de probabilité sur les étiquettes.\n",
    "D'un point de vue computationnel, un réseau de neurones est composé de plusieurs modules, transformant simplement les features d'un espace à un autre en fonction des valeurs courantes des paramètres.\n",
    "Ainsi, le but de l'entraînement est d'apprendre les transformations pertinentes, i.e., en modifiant les paramètres, qui permettront de réaliser la tâche associée au module de sortie. \n",
    "En augmentant le nombre de modules (mais aussi de fonctions non-linéaires), on augmente ainsi la complexité du modèle.\n",
    "La thèse du {\\it Deep Learning} nous dit que les modules près des données d'entrée doivent apprennent des features de bas niveau, e.g., filtre de Gabor pour l'image, alors que les modules près de la sortie apprennent des features de haut niveau, e.g., la probabilité qu'il y ait un chat dans l'image.\n",
    "A priori, cette hiéarchie des features n'est pas imposée par le programmeur, mais apparaît naturellement lors de l'entraînement avec l'algorithme de backpropagation .\n",
    "\n",
    "Le but du TP2 est de programmer les trois étapes essentielles à l'entraînement d'un réseau de neurones: la forward propagation, la backpropagation et la mise à jour des paramètres.\n",
    "Ensuite, vous pouvez créer un test permettant de vérifier l'implémentation: le test des différences finies.\n",
    "Finalement, vous pourrez comparer les performances de votre réseau de neurones avec celles de votre modèle Softmax de la semaine dernière."
   ]
  },
  {
   "cell_type": "markdown",
   "metadata": {},
   "source": [
    "## Objectifs : \n",
    "    1. Télécharger le TP2\n",
    "    2. Implementer la fonction forward (nn ops.py:72)\n",
    "    3. Implementer la fonction sigmoid et sa d ́eriv ́ee (nn ops.py:149)\n",
    "    4. Implementer la fonction backward (nn ops.py:93)\n",
    "    5. Implementer la fonction update (nn ops.py:123)\n",
    "    6. Entrainer miniNN et obtenir une accuracy meilleur que le modèle softmax (de 0.92)\n",
    "\n",
    "\n",
    "Et optionellemnt : \n",
    "    7. Implementer le test des diff ́erences finies (fd test.py)\n",
    "    \n",
    "La différence finie est une approximation de la dérivée partielle:\n",
    "\\begin{equation}\n",
    "\\frac{\\partial l(w)}{\\partial w_{i}} \\approx \\frac{l(w + \\epsilon e_{i}) - l(w - \\epsilon e_{i})}{2 \\epsilon}\n",
    "\\end{equation}\n",
    "où $l$ est une fonction à plusieurs variables avec ses dérivées partielles définies, $w$ est un vecteur, $w_{i}$ est sa $i$ème composante, $\\epsilon$ est la longeur du pas et $e_{i}$ est le $i$ème vecteur de la base canonique de l'espace euclidien."
   ]
  },
  {
   "cell_type": "markdown",
   "metadata": {},
   "source": [
    "## Livrable\n",
    "\n",
    "- __Date du livrable__: Le 16 décembre 2015  \n",
    "- __Format du livrable__ un fichier compressé nommé \"DL\\_tp2\\_prénom\\_nom.zip\" contenant le code et le résumé   \n",
    "- __Dépôt__ à l'adresse _{thomas.schmitt@inria.fr}_ avec comme objet du message \"DL\\_tp2\\_prénom\\_nom\".  \n",
    "- __Description__  \n",
    "Le livrable associé au TP2 doit contenir le code de MiniNN complété et accompagné d'un résumé de une à deux pages.\n",
    "Le code doit s'exécuter avec la commande _python miniNN.py_ et afficher l'évolution de l'apprentissage (sortie par défaut du programme).  \n",
    "( Ou bien être sous la forme d'un notebook. )\n",
    "\n",
    "Le résumé doit être succinct et se focaliser uniquement sur les points essentiels reliés à l'entraînement des réseaux de neurones.\n",
    "Ce document doit décrire les difficultés que vous avez rencontrées et, dans le cas échéant, les solutions utilisées pour les résoudre.\n",
    "Vous pouvez aussi y décrire vos questions ouvertes et proposer une expérience sur MNIST afin d'y répondre.  \n",
    "\n",
    "\n"
   ]
  },
  {
   "cell_type": "code",
   "execution_count": null,
   "metadata": {
    "collapsed": true
   },
   "outputs": [],
   "source": []
  },
  {
   "cell_type": "code",
   "execution_count": null,
   "metadata": {
    "collapsed": true
   },
   "outputs": [],
   "source": []
  },
  {
   "cell_type": "markdown",
   "metadata": {},
   "source": [
    "## Zone de Test "
   ]
  },
  {
   "cell_type": "markdown",
   "metadata": {},
   "source": [
    "### Load data and minibatch (as in miniNN.py)"
   ]
  },
  {
   "cell_type": "code",
   "execution_count": 74,
   "metadata": {
    "collapsed": false
   },
   "outputs": [
    {
     "name": "stdout",
     "output_type": "stream",
     "text": [
      "The autoreload extension is already loaded. To reload it, use:\n",
      "  %reload_ext autoreload\n"
     ]
    }
   ],
   "source": [
    "# Pour ne pas reload le kernel quand un fichier .py change\n",
    "%load_ext autoreload\n",
    "%autoreload 2\n",
    "\n",
    "%matplotlib inline\n",
    "import os\n",
    "import numpy as np\n",
    "import matplotlib.pyplot as plt\n",
    "import copy, math, time, sys\n",
    "import dataset_loader\n",
    "from nn_ops import *"
   ]
  },
  {
   "cell_type": "code",
   "execution_count": 91,
   "metadata": {
    "collapsed": false
   },
   "outputs": [],
   "source": [
    "\n",
    "# Retrieve the arguments \n",
    "args = parseArgs_ipython(arch = [400.400], act_func = \"reLU\", batch_size = 500, eta = 0.1, n_epoch = 100)\n"
   ]
  },
  {
   "cell_type": "code",
   "execution_count": 93,
   "metadata": {
    "collapsed": false
   },
   "outputs": [],
   "source": [
    "\n",
    "\n",
    "# Fix the seed for the random generator\n",
    "np.random.seed(seed=0)\n",
    "\n",
    "#############################\n",
    "### Dataset Handling\n",
    "#############################\n",
    "\n",
    "### Load the dataset\n",
    "train_set, valid_set, test_set = dataset_loader.load_mnist()\n",
    "\n",
    "### Define the dataset variables\n",
    "n_training = train_set[0].shape[0]\n",
    "n_feature = train_set[0].shape[1]\n",
    "n_label = np.max(train_set[1])+1\n",
    "\n",
    "#############################\n",
    "### Neural Network parameters\n",
    "#############################\n",
    "\n",
    "### Activation function\n",
    "act_func_name = args.act_func\n",
    "\n",
    "### Network Architecture\n",
    "nn_arch = np.array([n_feature] + args.arch + [n_label])\n",
    "\n",
    "### Create the neural network\n",
    "W,B,act_func,nb_params = initNetwork(nn_arch,act_func_name)\n",
    "\n",
    "#############################\n",
    "### Optimization parameters\n",
    "#############################\n",
    "eta = args.eta\n",
    "batch_size = args.batch_size\n",
    "n_batch = int(math.ceil(float(n_training)/batch_size))\n",
    "n_epoch = args.n_epoch \n",
    "#regularization= args.regularization\n",
    "#my_lambda= args.my_lambda\n",
    "#############################\n",
    "### Auxiliary variables\n",
    "#############################\n",
    "cumul_time = 0.\n",
    "\n",
    "# Convert the labels to one-hot vector\n",
    "one_hot = np.zeros((n_label,n_training))\n",
    "one_hot[train_set[1],np.arange(n_training)]=1.\n",
    "\n"
   ]
  },
  {
   "cell_type": "code",
   "execution_count": 94,
   "metadata": {
    "collapsed": false
   },
   "outputs": [],
   "source": [
    "### Mini-batch creation\n",
    "j = 0\n",
    "batch, one_hot_batch, mini_batch_size = getMiniBatch(j, batch_size, train_set, one_hot)\n",
    "X_bacth = batch"
   ]
  },
  {
   "cell_type": "code",
   "execution_count": 95,
   "metadata": {
    "collapsed": false
   },
   "outputs": [
    {
     "data": {
      "text/plain": [
       "(500, 784)"
      ]
     },
     "execution_count": 95,
     "metadata": {},
     "output_type": "execute_result"
    }
   ],
   "source": [
    "batch.shape\n",
    "#len(batch[1])"
   ]
  },
  {
   "cell_type": "markdown",
   "metadata": {},
   "source": [
    "### Appel de chaque fonction, avec les valeurs calculé avant"
   ]
  },
  {
   "cell_type": "code",
   "execution_count": 99,
   "metadata": {
    "collapsed": false
   },
   "outputs": [],
   "source": [
    "### Forward propagation\n",
    "\n",
    "Y,Yp = forward(act_func, W, B, batch)\n"
   ]
  },
  {
   "cell_type": "code",
   "execution_count": 100,
   "metadata": {
    "collapsed": false
   },
   "outputs": [],
   "source": [
    "assert Y[0].shape == (n_feature, batch_size)\n",
    "assert Y[-1].shape == (10, batch_size)"
   ]
  },
  {
   "cell_type": "code",
   "execution_count": 103,
   "metadata": {
    "collapsed": false
   },
   "outputs": [
    {
     "ename": "AssertionError",
     "evalue": "",
     "output_type": "error",
     "traceback": [
      "\u001b[0;31m---------------------------------------------------------------------------\u001b[0m",
      "\u001b[0;31mAssertionError\u001b[0m                            Traceback (most recent call last)",
      "\u001b[0;32m<ipython-input-103-c773e4f19282>\u001b[0m in \u001b[0;36m<module>\u001b[0;34m()\u001b[0m\n\u001b[0;32m----> 1\u001b[0;31m \u001b[0;32massert\u001b[0m \u001b[0mYp\u001b[0m\u001b[0;34m[\u001b[0m\u001b[0;36m0\u001b[0m\u001b[0;34m]\u001b[0m\u001b[0;34m.\u001b[0m\u001b[0mshape\u001b[0m \u001b[0;34m==\u001b[0m \u001b[0;34m(\u001b[0m\u001b[0mnn_arch\u001b[0m\u001b[0;34m[\u001b[0m\u001b[0;36m1\u001b[0m\u001b[0;34m]\u001b[0m\u001b[0;34m,\u001b[0m \u001b[0mbatch_size\u001b[0m\u001b[0;34m)\u001b[0m\u001b[0;34m\u001b[0m\u001b[0m\n\u001b[0m",
      "\u001b[0;31mAssertionError\u001b[0m: "
     ]
    }
   ],
   "source": [
    "assert Yp[0].shape == (nn_arch[1], batch_size)"
   ]
  },
  {
   "cell_type": "code",
   "execution_count": 104,
   "metadata": {
    "collapsed": false
   },
   "outputs": [],
   "source": [
    "\n",
    "### Compute the softmax\n",
    "out = softmax(Y[-1])\n"
   ]
  },
  {
   "cell_type": "code",
   "execution_count": 105,
   "metadata": {
    "collapsed": false
   },
   "outputs": [],
   "source": [
    "assert out.shape == (nn_arch[-1], batch_size)"
   ]
  },
  {
   "cell_type": "markdown",
   "metadata": {
    "collapsed": false
   },
   "source": [
    "### Compute the gradient at the top layer\n",
    "derror = out-one_hot_batch\n",
    "\n",
    "        "
   ]
  },
  {
   "cell_type": "code",
   "execution_count": 106,
   "metadata": {
    "collapsed": false
   },
   "outputs": [],
   "source": [
    "derror = out - one_hot_batch\n",
    "assert derror.shape == (nn_arch[-1], batch_size)\n"
   ]
  },
  {
   "cell_type": "code",
   "execution_count": 107,
   "metadata": {
    "collapsed": false
   },
   "outputs": [],
   "source": [
    "### Backpropagation\n",
    "gradB = backward(derror, W, Yp)\n",
    "\n"
   ]
  },
  {
   "cell_type": "code",
   "execution_count": 109,
   "metadata": {
    "collapsed": false
   },
   "outputs": [
    {
     "name": "stderr",
     "output_type": "stream",
     "text": [
      "/usr/local/lib/python2.7/dist-packages/ipykernel/__main__.py:3: VisibleDeprecationWarning: using a non-integer number instead of an integer will result in an error in the future\n",
      "  app.launch_new_instance()\n"
     ]
    }
   ],
   "source": [
    "assert len(gradB) == len(nn_arch)-1\n",
    "for gradw,dim in zip(gradB,nn_arch[1:]):\n",
    "    gradw.shape = (dim,batch_size)"
   ]
  },
  {
   "cell_type": "code",
   "execution_count": 110,
   "metadata": {
    "collapsed": false
   },
   "outputs": [],
   "source": [
    "### Update the parameters\n",
    "new_W, new_B = update(eta, batch_size, W, B, gradB, Y)\n"
   ]
  },
  {
   "cell_type": "code",
   "execution_count": 111,
   "metadata": {
    "collapsed": false
   },
   "outputs": [],
   "source": [
    "### Training accuracy\n",
    "train_loss, train_accuracy = computeLoss(W, B, train_set[0], train_set[1], act_func) \n",
    "\n",
    "### Valid accuracy\n",
    "valid_loss, valid_accuracy = computeLoss(W, B, valid_set[0], valid_set[1], act_func) \n"
   ]
  },
  {
   "cell_type": "code",
   "execution_count": null,
   "metadata": {
    "collapsed": true
   },
   "outputs": [],
   "source": []
  },
  {
   "cell_type": "code",
   "execution_count": null,
   "metadata": {
    "collapsed": true
   },
   "outputs": [],
   "source": []
  },
  {
   "cell_type": "markdown",
   "metadata": {},
   "source": [
    "## Training"
   ]
  },
  {
   "cell_type": "code",
   "execution_count": 112,
   "metadata": {
    "collapsed": false,
    "scrolled": true
   },
   "outputs": [
    {
     "name": "stdout",
     "output_type": "stream",
     "text": [
      "0 22.811062 1.94320841471 0.41342 1.9368533066 0.4248 0.1\n",
      "1 49.366172 1.31921466215 0.6388 1.29460356209 0.6658 0.1\n",
      "2 72.774617 1.01776336847 0.71918 0.979325895557 0.7375 0.1\n",
      "3 94.529341 0.913392265557 0.74462 0.872284676248 0.7646 0.1\n",
      "4 117.026019 0.85833879335 0.76356 0.818010852356 0.7846 0.1\n",
      "5 139.215704 0.816411323063 0.7843 0.777531997702 0.8063 0.1\n",
      "6 163.382448 0.783137194264 0.79826 0.745285142804 0.819 0.1\n",
      "7 186.130292 0.758104621367 0.80828 0.72049947721 0.828 0.1\n",
      "8 210.508332 0.737730205161 0.81456 0.700337314765 0.832 0.1\n",
      "9 238.213912 0.722135343238 0.81876 0.68474781697 0.835 0.1\n",
      "10 266.106275 0.710613062015 0.82184 0.673460379022 0.8393 0.1\n",
      "11 293.323472 0.701134071544 0.82268 0.664069440399 0.8404 0.1\n",
      "12 323.41473 0.694689789519 0.82394 0.65741083085 0.8407 0.1\n",
      "13 349.471663 0.687777977044 0.82514 0.6506465748 0.844 0.1\n",
      "14 376.151659 0.68301600762 0.82518 0.645686566616 0.8439 0.1\n",
      "15 401.675171 0.680511574339 0.82442 0.642369839402 0.8424 0.1\n",
      "16 428.165256 0.677242183745 0.825 0.638841338409 0.8436 0.1\n",
      "17 453.771323 0.675420266391 0.8252 0.636349136429 0.844 0.1\n",
      "18 480.54305 0.673782108267 0.82548 0.634164430278 0.8441 0.1\n",
      "19 506.580685 0.673727387432 0.8255 0.633548045342 0.8437 0.1\n",
      "20 533.086641 0.671733072931 0.82592 0.631163000709 0.8437 0.1\n",
      "21 558.49159 0.672635851036 0.82488 0.631422665771 0.8437 0.1\n",
      "22 583.018277 0.673871535525 0.8244 0.632137398764 0.8445 0.1\n",
      "23 611.508515 0.67239841785 0.82444 0.630504814621 0.8449 0.1\n",
      "24 638.907942 0.672426387139 0.82398 0.630429733941 0.845 0.1\n",
      "25 664.073774 0.670500221988 0.82438 0.628428194722 0.844 0.1\n",
      "26 689.057623 0.670065829327 0.82458 0.627756866861 0.8457 0.1\n",
      "27 716.352978 0.669258221229 0.82502 0.626927743727 0.8456 0.1\n",
      "28 740.907794 0.668005269131 0.82594 0.625763127059 0.8466 0.1\n",
      "29 768.285939 0.668790291647 0.82548 0.626265913971 0.8466 0.1\n",
      "30 795.678551 0.665570359499 0.8265 0.623154052893 0.8471 0.1\n",
      "31 821.44944 0.665570013772 0.82592 0.622961770144 0.8471 0.1\n",
      "32 847.567314 0.664174070339 0.8269 0.62164160105 0.8475 0.1\n",
      "33 872.417389 0.664150889301 0.82652 0.621697655728 0.8476 0.1\n",
      "34 899.712292 0.664769194813 0.82658 0.622403670443 0.8478 0.1\n",
      "35 924.718864 0.664691621002 0.82674 0.622286570986 0.8474 0.1\n",
      "36 950.605642 0.664378673649 0.8266 0.622081644853 0.8479 0.1\n",
      "37 975.403677 0.663585550287 0.82698 0.621425939021 0.8488 0.1\n",
      "38 1001.917715 0.664161006311 0.82618 0.621893524056 0.8485 0.1\n",
      "39 1029.617992 0.664236374138 0.8267 0.622222645743 0.849 0.1\n",
      "40 1054.244745 0.663235253467 0.82688 0.621338354072 0.849 0.1\n",
      "41 1081.00698 0.663920963971 0.82634 0.622096147298 0.849 0.1\n",
      "42 1106.622777 0.663398095426 0.82674 0.621803691745 0.8486 0.1\n",
      "43 1131.773698 0.663763528467 0.82678 0.622122474613 0.8486 0.1\n",
      "44 1160.166556 0.664247484336 0.82632 0.622720898941 0.8475 0.1\n",
      "45 1185.885049 0.664603197021 0.82616 0.623075603005 0.8472 0.1\n",
      "46 1213.417872 0.664575925216 0.82596 0.623241175301 0.8472 0.1\n",
      "47 1239.293133 0.664875806402 0.8259 0.623700145745 0.8465 0.1\n",
      "48 1268.603254 0.664617964622 0.82564 0.623368939786 0.8476 0.1\n",
      "49 1298.153833 0.663453946842 0.82604 0.622204846257 0.8473 0.1\n",
      "50 1331.026285 0.662898394633 0.82664 0.621656749485 0.8478 0.1\n",
      "51 1362.342539 0.66265898737 0.82666 0.621414227479 0.8466 0.1\n",
      "52 1394.308877 0.661781012324 0.8272 0.620829089392 0.8481 0.1\n",
      "53 1422.888499 0.661939015022 0.82666 0.620964084187 0.8472 0.1\n",
      "54 1452.020912 0.662448739217 0.82672 0.621375425859 0.847 0.1\n",
      "55 1482.507176 0.662286666957 0.82662 0.62144594303 0.8465 0.1\n",
      "56 1510.000024 0.662000278971 0.82694 0.62128217396 0.8468 0.1\n",
      "57 1537.401212 0.661342869691 0.82716 0.620745546734 0.8471 0.1\n",
      "58 1561.938123 0.661982232505 0.82706 0.621340847469 0.847 0.1\n",
      "59 1586.10595 0.661880370893 0.82702 0.62119341868 0.8471 0.1\n",
      "60 1609.836709 0.661897694003 0.8271 0.621362561758 0.8471 0.1\n",
      "61 1634.45669 0.661589523544 0.82762 0.621028360138 0.8473 0.1\n",
      "62 1658.447483 0.661835895604 0.82722 0.621368341759 0.8467 0.1\n",
      "63 1686.014161 0.661847317179 0.82758 0.621499664089 0.8473 0.1\n",
      "64 1712.338227 0.662173175858 0.82756 0.621687187765 0.8474 0.1\n",
      "65 1747.12721 0.66269632425 0.8275 0.622286861856 0.8472 0.1\n",
      "66 1772.803178 0.661930850725 0.82814 0.621616685405 0.8474 0.1\n",
      "67 1797.072751 0.662273038897 0.82814 0.621886080054 0.8467 0.1\n",
      "68 1820.241923 0.661789901954 0.82812 0.621691458915 0.8468 0.1\n",
      "69 1845.307657 0.662252108219 0.82838 0.621863792246 0.8466 0.1\n",
      "70 1868.670271 0.662016692445 0.82848 0.621872965007 0.8475 0.1\n",
      "71 1892.368854 0.662622744267 0.82824 0.62234823593 0.8476 0.1\n",
      "72 1916.270337 0.662452611437 0.82804 0.622235900445 0.8462 0.1\n",
      "73 1943.148748 0.662626884452 0.82888 0.622433393794 0.8473 0.1\n",
      "74 1969.75301 0.662194000064 0.82874 0.62205977817 0.8478 0.1\n",
      "75 1993.641912 0.662351483788 0.82882 0.622132744655 0.8475 0.1\n",
      "76 2017.952193 0.662803869746 0.82862 0.622719280804 0.8475 0.1\n",
      "77 2041.798832 0.66274152476 0.82866 0.622623554112 0.847 0.1\n",
      "78 2065.048739 0.662483730827 0.8288 0.622358961838 0.8464 0.1\n",
      "79 2089.85392 0.662295154009 0.82856 0.6221636215 0.8474 0.1\n",
      "80 2113.538358 0.663235531631 0.82776 0.62316393204 0.8466 0.1\n",
      "81 2137.054458 0.661770606964 0.82892 0.621892017227 0.8468 0.1\n",
      "82 2160.929021 0.662575396115 0.8287 0.622583254434 0.8471 0.1\n",
      "83 2184.747912 0.661675503332 0.82906 0.621842189756 0.8475 0.1\n",
      "84 2208.804295 0.661824765253 0.82898 0.622016329004 0.847 0.1\n",
      "85 2232.65544 0.662369972397 0.82858 0.622631029969 0.847 0.1\n",
      "86 2256.851784 0.662168281188 0.82828 0.622380819735 0.8469 0.1\n",
      "87 2282.607398 0.661882920848 0.8289 0.622245169674 0.8467 0.1\n",
      "88 2308.210556 0.662465226321 0.82868 0.62278483185 0.8473 0.1\n",
      "89 2331.965395 0.662313766517 0.82864 0.622620335844 0.8465 0.1\n",
      "90 2356.635869 0.661086911745 0.82926 0.621663449671 0.8478 0.1\n",
      "91 2380.565683 0.661820587461 0.8289 0.622273186846 0.8471 0.1\n",
      "92 2404.346093 0.66153753204 0.82874 0.622229526322 0.8467 0.1\n",
      "93 2427.767697 0.661419710604 0.82912 0.621835309753 0.8472 0.1\n",
      "94 2453.364894 0.661320682658 0.82888 0.621939513922 0.8466 0.1\n",
      "95 2478.311356 0.661406993804 0.82882 0.622105598587 0.8467 0.1\n",
      "96 2507.15433 0.66132585331 0.82888 0.622006044788 0.847 0.1\n",
      "97 2531.410198 0.661685681731 0.82912 0.622459480342 0.8465 0.1\n",
      "98 2557.56595 0.661557565953 0.82898 0.622371964676 0.8464 0.1\n",
      "99 2580.881191 0.661250231976 0.82902 0.622022165377 0.8471 0.1\n"
     ]
    }
   ],
   "source": [
    "eta = 0.1\n",
    "g_train_acc = []\n",
    "g_valid_acc = []\n",
    "for i in range(n_epoch):\n",
    "    for j in range(n_batch):\n",
    "\n",
    "        ### Mini-batch creation\n",
    "        batch, one_hot_batch, mini_batch_size = getMiniBatch(j, batch_size, train_set, one_hot)\n",
    "\n",
    "        prev_time = time.clock()\n",
    "\n",
    "        ### Forward propagation\n",
    "        Y,Yp = forward(act_func, W, B, batch)\n",
    "\n",
    "        ### Compute the softmax\n",
    "        out = softmax(Y[-1])\n",
    "        \n",
    "        ### Compute the gradient at the top layer\n",
    "        derror = out-one_hot_batch\n",
    "\n",
    "        ### Backpropagation\n",
    "        gradB = backward(derror, W, Yp)\n",
    "\n",
    "        ### Update the parameters\n",
    "        W, B = update(eta, batch_size, W, B, gradB, Y)\n",
    "\n",
    "        curr_time = time.clock()\n",
    "        cumul_time += curr_time - prev_time\n",
    "\n",
    "    ### Training accuracy\n",
    "    train_loss, train_accuracy = computeLoss(W, B, train_set[0], train_set[1], act_func) \n",
    "\n",
    "    ### Valid accuracy\n",
    "    valid_loss, valid_accuracy = computeLoss(W, B, valid_set[0], valid_set[1], act_func) \n",
    "\n",
    "    result_line = str(i) + \" \" + str(cumul_time) + \" \" + str(train_loss) + \" \" + str(train_accuracy) + \" \" + str(valid_loss) + \" \" + str(valid_accuracy) + \" \" + str(eta)\n",
    "\n",
    "    #g_i = np.append(g_i, i)\n",
    "    #g_train_loss = np.append(g_train_loss, train_loss)\n",
    "    g_train_acc = np.append(g_train_acc, train_accuracy)\n",
    "    #g_valid_loss = np.append(g_valid_loss, valid_loss)\n",
    "    g_valid_acc = np.append(g_valid_acc, valid_accuracy)\n",
    "    print(result_line)"
   ]
  },
  {
   "cell_type": "code",
   "execution_count": null,
   "metadata": {
    "collapsed": true
   },
   "outputs": [],
   "source": []
  },
  {
   "cell_type": "code",
   "execution_count": null,
   "metadata": {
    "collapsed": true
   },
   "outputs": [],
   "source": []
  },
  {
   "cell_type": "code",
   "execution_count": 113,
   "metadata": {
    "collapsed": false
   },
   "outputs": [
    {
     "data": {
      "text/plain": [
       "<matplotlib.legend.Legend at 0x7fae4dcf3590>"
      ]
     },
     "execution_count": 113,
     "metadata": {},
     "output_type": "execute_result"
    },
    {
     "data": {
      "image/png": "[encoded data removed]",
      "text/plain": [
       "<matplotlib.figure.Figure at 0x7fae4ddf9450>"
      ]
     },
     "metadata": {},
     "output_type": "display_data"
    }
   ],
   "source": [
    "plt.plot(g_train_acc,label='train_acc')\n",
    "plt.plot(g_valid_acc,label='valid_acc')\n",
    "plt.title(\"accuracy RELU l1 0.01\")\n",
    "plt.xlabel(\"epoch\")\n",
    "plt.ylabel(\"accurancy\")\n",
    "plt.ylim([0.,1.])\n",
    "plt.legend()"
   ]
  },
  {
   "cell_type": "code",
   "execution_count": null,
   "metadata": {
    "collapsed": true
   },
   "outputs": [],
   "source": []
  }
 ],
 "metadata": {
  "kernelspec": {
   "display_name": "Python 2",
   "language": "python",
   "name": "python2"
  },
  "language_info": {
   "codemirror_mode": {
    "name": "ipython",
    "version": 2
   },
   "file_extension": ".py",
   "mimetype": "text/x-python",
   "name": "python",
   "nbconvert_exporter": "python",
   "pygments_lexer": "ipython2",
   "version": "2.7.12"
  }
 },
 "nbformat": 4,
 "nbformat_minor": 0
}
