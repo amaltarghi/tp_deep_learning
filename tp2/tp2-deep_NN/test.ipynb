{
 "cells": [
  {
   "cell_type": "markdown",
   "metadata": {},
   "source": [
    "# TP2 : MiniNN Notebook "
   ]
  },
  {
   "cell_type": "markdown",
   "metadata": {},
   "source": [
    "7 décembre 2016  \n",
    "Adapté du TP de Gaétan Marceau-Caron"
   ]
  },
  {
   "cell_type": "markdown",
   "metadata": {},
   "source": [
    "## Introduction\n",
    "\n",
    "Au cours du TP1, nous avons étudié le modèle _Softmax_ (aussi connu sous le nom de MaxEnt) pour traiter le problème de classification probabiliste.\n",
    "Le but était de présenter deux étapes importantes de l'entraînement: la {\\it forward propagation} et la mise à jour des paramètres.\n",
    "Le TP2 reprend le modèle Softmax dans un cadre plus général, celui des réseaux de neurones avec couches cachées.\n",
    "\n",
    "Dans ce cadre, on peut considérer le modèle Softmax comme un \"module\" qui prend en entrée des \"features\", e.g. les pixels d'une image, et qui donne en sortie une loi de probabilité sur les étiquettes.\n",
    "D'un point de vue computationnel, un réseau de neurones est composé de plusieurs modules, transformant simplement les features d'un espace à un autre en fonction des valeurs courantes des paramètres.\n",
    "Ainsi, le but de l'entraînement est d'apprendre les transformations pertinentes, i.e., en modifiant les paramètres, qui permettront de réaliser la tâche associée au module de sortie. \n",
    "En augmentant le nombre de modules (mais aussi de fonctions non-linéaires), on augmente ainsi la complexité du modèle.\n",
    "La thèse du {\\it Deep Learning} nous dit que les modules près des données d'entrée doivent apprennent des features de bas niveau, e.g., filtre de Gabor pour l'image, alors que les modules près de la sortie apprennent des features de haut niveau, e.g., la probabilité qu'il y ait un chat dans l'image.\n",
    "A priori, cette hiéarchie des features n'est pas imposée par le programmeur, mais apparaît naturellement lors de l'entraînement avec l'algorithme de backpropagation .\n",
    "\n",
    "Le but du TP2 est de programmer les trois étapes essentielles à l'entraînement d'un réseau de neurones: la forward propagation, la backpropagation et la mise à jour des paramètres.\n",
    "Ensuite, vous pouvez créer un test permettant de vérifier l'implémentation: le test des différences finies.\n",
    "Finalement, vous pourrez comparer les performances de votre réseau de neurones avec celles de votre modèle Softmax de la semaine dernière."
   ]
  },
  {
   "cell_type": "markdown",
   "metadata": {},
   "source": [
    "## Objectifs : \n",
    "    1. Télécharger le TP2\n",
    "    2. Implementer la fonction forward (nn ops.py:72)\n",
    "    3. Implementer la fonction sigmoid et sa d ́eriv ́ee (nn ops.py:149)\n",
    "    4. Implementer la fonction backward (nn ops.py:93)\n",
    "    5. Implementer la fonction update (nn ops.py:123)\n",
    "    6. Entrainer miniNN et obtenir une accuracy meilleur que le modèle softmax (de 0.92)\n",
    "\n",
    "\n",
    "Et optionellemnt : \n",
    "    7. Implementer le test des diff ́erences finies (fd test.py)\n",
    "    \n",
    "La différence finie est une approximation de la dérivée partielle:\n",
    "\\begin{equation}\n",
    "\\frac{\\partial l(w)}{\\partial w_{i}} \\approx \\frac{l(w + \\epsilon e_{i}) - l(w - \\epsilon e_{i})}{2 \\epsilon}\n",
    "\\end{equation}\n",
    "où $l$ est une fonction à plusieurs variables avec ses dérivées partielles définies, $w$ est un vecteur, $w_{i}$ est sa $i$ème composante, $\\epsilon$ est la longeur du pas et $e_{i}$ est le $i$ème vecteur de la base canonique de l'espace euclidien."
   ]
  },
  {
   "cell_type": "markdown",
   "metadata": {},
   "source": [
    "## Livrable\n",
    "\n",
    "- __Date du livrable__: Le 16 décembre 2015  \n",
    "- __Format du livrable__ un fichier compressé nommé \"DL\\_tp2\\_prénom\\_nom.zip\" contenant le code et le résumé   \n",
    "- __Dépôt__ à l'adresse _{thomas.schmitt@inria.fr}_ avec comme objet du message \"DL\\_tp2\\_prénom\\_nom\".  \n",
    "- __Description__  \n",
    "Le livrable associé au TP2 doit contenir le code de MiniNN complété et accompagné d'un résumé de une à deux pages.\n",
    "Le code doit s'exécuter avec la commande _python miniNN.py_ et afficher l'évolution de l'apprentissage (sortie par défaut du programme).  \n",
    "( Ou bien être sous la forme d'un notebook. )\n",
    "\n",
    "Le résumé doit être succinct et se focaliser uniquement sur les points essentiels reliés à l'entraînement des réseaux de neurones.\n",
    "Ce document doit décrire les difficultés que vous avez rencontrées et, dans le cas échéant, les solutions utilisées pour les résoudre.\n",
    "Vous pouvez aussi y décrire vos questions ouvertes et proposer une expérience sur MNIST afin d'y répondre.  \n",
    "\n",
    "\n"
   ]
  },
  {
   "cell_type": "code",
   "execution_count": null,
   "metadata": {
    "collapsed": true
   },
   "outputs": [],
   "source": []
  },
  {
   "cell_type": "code",
   "execution_count": null,
   "metadata": {
    "collapsed": true
   },
   "outputs": [],
   "source": []
  },
  {
   "cell_type": "markdown",
   "metadata": {},
   "source": [
    "## Zone de Test "
   ]
  },
  {
   "cell_type": "markdown",
   "metadata": {},
   "source": [
    "### Load data and minibatch (as in miniNN.py)"
   ]
  },
  {
   "cell_type": "code",
   "execution_count": 12,
   "metadata": {
    "collapsed": false
   },
   "outputs": [
    {
     "name": "stdout",
     "output_type": "stream",
     "text": [
      "The autoreload extension is already loaded. To reload it, use:\n",
      "  %reload_ext autoreload\n"
     ]
    }
   ],
   "source": [
    "# Pour ne pas reload le kernel quand un fichier .py change\n",
    "%load_ext autoreload\n",
    "%autoreload 2\n",
    "\n",
    "%matplotlib inline\n",
    "import os\n",
    "import numpy as np\n",
    "import matplotlib.pyplot as plt\n",
    "import copy, math, time, sys\n",
    "import dataset_loader\n",
    "from nn_ops import *"
   ]
  },
  {
   "cell_type": "code",
   "execution_count": 13,
   "metadata": {
    "collapsed": false
   },
   "outputs": [],
   "source": [
    "\n",
    "# Retrieve the arguments \n",
    "args = parseArgs_ipython(arch = [800,800], act_func = \"reLU\", batch_size = 500, eta = 0.1, n_epoch = 100)\n"
   ]
  },
  {
   "cell_type": "code",
   "execution_count": 14,
   "metadata": {
    "collapsed": false
   },
   "outputs": [],
   "source": [
    "\n",
    "\n",
    "# Fix the seed for the random generator\n",
    "np.random.seed(seed=0)\n",
    "\n",
    "#############################\n",
    "### Dataset Handling\n",
    "#############################\n",
    "\n",
    "### Load the dataset\n",
    "train_set, valid_set, test_set = dataset_loader.load_mnist()\n",
    "\n",
    "### Define the dataset variables\n",
    "n_training = train_set[0].shape[0]\n",
    "n_feature = train_set[0].shape[1]\n",
    "n_label = np.max(train_set[1])+1\n",
    "\n",
    "#############################\n",
    "### Neural Network parameters\n",
    "#############################\n",
    "\n",
    "### Activation function\n",
    "act_func_name = args.act_func\n",
    "\n",
    "### Network Architecture\n",
    "nn_arch = np.array([n_feature] + args.arch + [n_label])\n",
    "\n",
    "### Create the neural network\n",
    "W,B,act_func,nb_params = initNetwork(nn_arch,act_func_name)\n",
    "\n",
    "#############################\n",
    "### Optimization parameters\n",
    "#############################\n",
    "eta = args.eta\n",
    "batch_size = args.batch_size\n",
    "n_batch = int(math.ceil(float(n_training)/batch_size))\n",
    "n_epoch = args.n_epoch \n",
    "#regularization= args.regularization\n",
    "#my_lambda= args.my_lambda\n",
    "#############################\n",
    "### Auxiliary variables\n",
    "#############################\n",
    "cumul_time = 0.\n",
    "\n",
    "# Convert the labels to one-hot vector\n",
    "one_hot = np.zeros((n_label,n_training))\n",
    "one_hot[train_set[1],np.arange(n_training)]=1.\n",
    "\n"
   ]
  },
  {
   "cell_type": "code",
   "execution_count": 15,
   "metadata": {
    "collapsed": false
   },
   "outputs": [],
   "source": [
    "### Mini-batch creation\n",
    "j = 0\n",
    "batch, one_hot_batch, mini_batch_size = getMiniBatch(j, batch_size, train_set, one_hot)\n",
    "X_bacth = batch"
   ]
  },
  {
   "cell_type": "code",
   "execution_count": 16,
   "metadata": {
    "collapsed": false
   },
   "outputs": [
    {
     "data": {
      "text/plain": [
       "(500, 784)"
      ]
     },
     "execution_count": 16,
     "metadata": {},
     "output_type": "execute_result"
    }
   ],
   "source": [
    "batch.shape\n",
    "#len(batch[1])"
   ]
  },
  {
   "cell_type": "markdown",
   "metadata": {},
   "source": [
    "### Appel de chaque fonction, avec les valeurs calculé avant"
   ]
  },
  {
   "cell_type": "code",
   "execution_count": 17,
   "metadata": {
    "collapsed": false
   },
   "outputs": [],
   "source": [
    "### Forward propagation\n",
    "\n",
    "Y,Yp = forward(act_func, W, B, batch)\n"
   ]
  },
  {
   "cell_type": "code",
   "execution_count": 18,
   "metadata": {
    "collapsed": false
   },
   "outputs": [],
   "source": [
    "assert Y[0].shape == (n_feature, batch_size)\n",
    "assert Y[-1].shape == (10, batch_size)"
   ]
  },
  {
   "cell_type": "code",
   "execution_count": 19,
   "metadata": {
    "collapsed": false
   },
   "outputs": [],
   "source": [
    "assert Yp[0].shape == (nn_arch[1], batch_size)"
   ]
  },
  {
   "cell_type": "code",
   "execution_count": 20,
   "metadata": {
    "collapsed": false
   },
   "outputs": [],
   "source": [
    "\n",
    "### Compute the softmax\n",
    "out = softmax(Y[-1])\n"
   ]
  },
  {
   "cell_type": "code",
   "execution_count": 21,
   "metadata": {
    "collapsed": false
   },
   "outputs": [],
   "source": [
    "assert out.shape == (nn_arch[-1], batch_size)"
   ]
  },
  {
   "cell_type": "markdown",
   "metadata": {
    "collapsed": false
   },
   "source": [
    "### Compute the gradient at the top layer\n",
    "derror = out-one_hot_batch\n",
    "\n",
    "        "
   ]
  },
  {
   "cell_type": "code",
   "execution_count": 22,
   "metadata": {
    "collapsed": false
   },
   "outputs": [],
   "source": [
    "derror = out - one_hot_batch\n",
    "assert derror.shape == (nn_arch[-1], batch_size)\n"
   ]
  },
  {
   "cell_type": "code",
   "execution_count": 23,
   "metadata": {
    "collapsed": false
   },
   "outputs": [],
   "source": [
    "### Backpropagation\n",
    "gradB = backward(derror, W, Yp)\n",
    "\n"
   ]
  },
  {
   "cell_type": "code",
   "execution_count": 24,
   "metadata": {
    "collapsed": false
   },
   "outputs": [],
   "source": [
    "assert len(gradB) == len(nn_arch)-1\n",
    "for gradw,dim in zip(gradB,nn_arch[1:]):\n",
    "    gradw.shape = (dim,batch_size)"
   ]
  },
  {
   "cell_type": "code",
   "execution_count": 25,
   "metadata": {
    "collapsed": false
   },
   "outputs": [],
   "source": [
    "### Update the parameters\n",
    "new_W, new_B = update(eta, batch_size, W, B, gradB, Y)\n"
   ]
  },
  {
   "cell_type": "code",
   "execution_count": 26,
   "metadata": {
    "collapsed": false
   },
   "outputs": [],
   "source": [
    "### Training accuracy\n",
    "train_loss, train_accuracy = computeLoss(W, B, train_set[0], train_set[1], act_func) \n",
    "\n",
    "### Valid accuracy\n",
    "valid_loss, valid_accuracy = computeLoss(W, B, valid_set[0], valid_set[1], act_func) \n"
   ]
  },
  {
   "cell_type": "code",
   "execution_count": null,
   "metadata": {
    "collapsed": true
   },
   "outputs": [],
   "source": []
  },
  {
   "cell_type": "code",
   "execution_count": null,
   "metadata": {
    "collapsed": true
   },
   "outputs": [],
   "source": []
  },
  {
   "cell_type": "markdown",
   "metadata": {},
   "source": [
    "## Training"
   ]
  },
  {
   "cell_type": "code",
   "execution_count": 28,
   "metadata": {
    "collapsed": false,
    "scrolled": false
   },
   "outputs": [
    {
     "name": "stdout",
     "output_type": "stream",
     "text": [
      "0 821.375516 0.369016348983 0.91026 0.343456747075 0.9184 0.1\n",
      "1 909.396239 0.366707239643 0.91124 0.341364432125 0.9192 0.1\n",
      "2 998.864442 0.364367930994 0.91194 0.339254926853 0.9196 0.1\n",
      "3 1087.831657 0.362000013363 0.91246 0.337135096772 0.9206 0.1\n",
      "4 1186.368855 0.359628662761 0.91298 0.334998166515 0.9213 0.1\n",
      "5 1269.47664 0.357266862104 0.91356 0.332884369561 0.9219 0.1\n",
      "6 1353.78124 0.35497278009 0.91436 0.330825238291 0.9225 0.1\n",
      "7 1451.036884 0.352771320347 0.91516 0.328848779756 0.9232 0.1\n",
      "8 1561.876963 0.350685922929 0.91564 0.326970033909 0.9237 0.1\n",
      "9 1661.888579 0.348725106988 0.91622 0.325208963474 0.9249 0.1\n",
      "10 1759.277066 0.346893879939 0.91686 0.323567834487 0.9259 0.1\n",
      "11 1843.197111 0.345205418175 0.91724 0.322049419837 0.9259 0.1\n",
      "12 1927.136742 0.343646990679 0.91752 0.320647769895 0.9259 0.1\n",
      "13 2017.449707 0.342200973493 0.9179 0.319337898293 0.9259 0.1\n",
      "14 2100.150922 0.340881972593 0.91834 0.318135496896 0.9265 0.1\n",
      "15 2183.149256 0.339668274326 0.91892 0.317025138798 0.9268 0.1\n",
      "16 2274.854199 0.338557371426 0.91942 0.316004877767 0.9269 0.1\n",
      "17 2379.942162 0.337525236389 0.91974 0.315052958891 0.9274 0.1\n",
      "18 2491.648745 0.336574725437 0.91994 0.314174039764 0.9273 0.1\n",
      "19 2601.214809 0.335695916831 0.9203 0.313357771076 0.9278 0.1\n",
      "20 2698.256157 0.334882183312 0.92054 0.312602012378 0.9279 0.1\n",
      "21 2781.772227 0.334123600223 0.92088 0.311894695417 0.9279 0.1\n",
      "22 2884.282241 0.333418366038 0.92114 0.311235986163 0.9279 0.1\n",
      "23 2975.853874 0.332753146508 0.9213 0.31061889593 0.9282 0.1\n",
      "24 3086.40016 0.332137927204 0.92142 0.310040710648 0.9283 0.1\n",
      "25 3175.180127 0.331566768701 0.92162 0.309504396188 0.9284 0.1\n",
      "26 3284.57822 0.331029283792 0.92184 0.309006413941 0.9287 0.1\n",
      "27 3376.833654 0.330517349811 0.9219 0.308527180581 0.9291 0.1\n",
      "28 3461.882462 0.330035808319 0.92208 0.308077065396 0.9291 0.1\n",
      "29 3549.73238 0.329585346606 0.92232 0.307657503562 0.9296 0.1\n",
      "30 3649.845315 0.32916952454 0.92234 0.307271450475 0.9297 0.1\n",
      "31 3744.953073 0.328779651467 0.9224 0.306902406998 0.9298 0.1\n",
      "32 3828.969233 0.328414985327 0.92258 0.306560238332 0.93 0.1\n",
      "33 3911.341021 0.328067849558 0.92268 0.306232054928 0.9301 0.1\n",
      "34 4004.522397 0.327743745023 0.92272 0.305929272204 0.9302 0.1\n",
      "35 4093.079731 0.327432568859 0.92286 0.305635132306 0.9302 0.1\n",
      "36 4176.352811 0.327138092665 0.92288 0.305356647705 0.9303 0.1\n",
      "37 4276.176058 0.326858869997 0.92298 0.30509457914 0.9306 0.1\n",
      "38 4383.894779 0.326597582193 0.92326 0.304849231245 0.9306 0.1\n",
      "39 4486.998185 0.326351742963 0.92332 0.30461748502 0.9306 0.1\n",
      "40 4595.636984 0.326111361532 0.92334 0.304389182392 0.9307 0.1\n",
      "41 4693.11638 0.325883193779 0.92338 0.304173205871 0.9307 0.1\n",
      "42 4803.99471 0.325667173346 0.92326 0.303966708289 0.9309 0.1\n",
      "43 4912.469669 0.325469440335 0.92332 0.303775268903 0.931 0.1\n",
      "44 5027.036234 0.325273278492 0.92336 0.303590027119 0.9312 0.1\n",
      "45 5128.337329 0.325086888185 0.9234 0.303413358423 0.9313 0.1\n",
      "46 5227.252029 0.324910337362 0.9234 0.303243373872 0.9313 0.1\n",
      "47 5329.465715 0.324733538856 0.92348 0.303074215362 0.9314 0.1\n",
      "48 5457.389892 0.324570799154 0.92358 0.302916462986 0.9314 0.1\n",
      "49 5575.554611 0.324411241675 0.92364 0.302764749757 0.9314 0.1\n",
      "50 5692.338924 0.324256073161 0.92376 0.302617203004 0.9314 0.1\n",
      "51 5795.005691 0.324106568815 0.92384 0.302476225672 0.9314 0.1\n",
      "52 5882.743683 0.323966659563 0.92388 0.302341159544 0.9315 0.1\n",
      "53 5968.009412 0.323822675555 0.92386 0.302207814705 0.9316 0.1\n",
      "54 6050.726612 0.323687800798 0.92394 0.30207850062 0.9317 0.1\n",
      "55 6151.354512 0.323556306572 0.92402 0.301952060459 0.9317 0.1\n",
      "56 6239.735299 0.323439044003 0.92404 0.301841616643 0.9317 0.1\n",
      "57 6322.803679 0.323319026593 0.92416 0.30172658561 0.9317 0.1\n",
      "58 6413.085054 0.323208491073 0.92422 0.301620006175 0.9317 0.1\n",
      "59 6495.677883 0.32310078708 0.92426 0.301516692079 0.9318 0.1\n",
      "60 6583.702464 0.322996486593 0.92426 0.301419448792 0.9318 0.1\n",
      "61 6674.000744 0.322896046704 0.92432 0.301319973732 0.9318 0.1\n",
      "62 6777.412384 0.322796845711 0.92432 0.301227589332 0.9319 0.1\n",
      "63 6869.317625 0.322699455718 0.92438 0.301134494935 0.9319 0.1\n",
      "64 6960.412934 0.322604232695 0.9244 0.301043971933 0.932 0.1\n",
      "65 7049.159595 0.322521965134 0.92438 0.300964404156 0.932 0.1\n",
      "66 7140.583745 0.322436189356 0.92444 0.300882745563 0.932 0.1\n",
      "67 7231.73933 0.322351741125 0.92442 0.300801758953 0.9321 0.1\n",
      "68 7335.238769 0.322275309343 0.92446 0.30072904533 0.9321 0.1\n",
      "69 7434.402683 0.322203925599 0.92444 0.300661032821 0.9321 0.1\n",
      "70 7512.654736 0.322122957897 0.9245 0.300583521363 0.9321 0.1\n",
      "71 7595.306351 0.32204737668 0.92452 0.3005124656 0.9321 0.1\n",
      "72 7677.904792 0.321975678416 0.92454 0.300447834871 0.9321 0.1\n",
      "73 7760.996932 0.321903994998 0.92456 0.300382284948 0.9321 0.1\n",
      "74 7843.306579 0.321836971119 0.92458 0.300318160975 0.9321 0.1\n",
      "75 7936.392867 0.321779214869 0.92462 0.300264694545 0.9321 0.1\n",
      "76 8039.368385 0.321717061122 0.92462 0.300206364879 0.9321 0.1\n",
      "77 8136.091627 0.32165367345 0.92472 0.300147021793 0.932 0.1\n",
      "78 8236.800801 0.321595969586 0.9247 0.300092194172 0.932 0.1\n",
      "79 8357.35621 0.32154189764 0.92474 0.300041880891 0.932 0.1\n",
      "80 8455.868525 0.321489793218 0.92476 0.299993899024 0.932 0.1\n",
      "81 8565.647726 0.321437558085 0.92476 0.299945843173 0.9319 0.1\n",
      "82 8685.075414 0.321388726612 0.92478 0.299897219838 0.9319 0.1\n",
      "83 8772.941338 0.321340599928 0.92482 0.29985739629 0.9318 0.1\n",
      "84 8883.694778 0.321293533068 0.92484 0.299812341071 0.9318 0.1\n",
      "85 8972.410956 0.32124436376 0.92488 0.299766722143 0.9318 0.1\n",
      "86 9093.42199 0.321197233716 0.92488 0.299724428714 0.9318 0.1\n",
      "87 9201.983217 0.321148053976 0.92492 0.299676699231 0.9318 0.1\n",
      "88 9329.742524 0.321103336977 0.92492 0.299638215001 0.9318 0.1\n",
      "89 9454.100882 0.321058159645 0.9249 0.299594595568 0.9319 0.1\n",
      "90 9554.227392 0.321014540913 0.9249 0.299554051641 0.9319 0.1\n",
      "91 9652.929749 0.320970153786 0.92492 0.299514997057 0.9319 0.1\n",
      "92 9756.378731 0.32092970298 0.92494 0.299480320413 0.9319 0.1\n",
      "93 9846.443 0.320887388961 0.925 0.29944039831 0.9319 0.1\n",
      "94 9945.86826 0.320841990688 0.92494 0.299399597611 0.9319 0.1\n",
      "95 10060.89624 0.320804290293 0.92498 0.299365891485 0.9319 0.1\n",
      "96 10175.130343 0.32077040779 0.92504 0.299336079149 0.9319 0.1\n",
      "97 10291.733246 0.320734551457 0.92506 0.299306662319 0.9319 0.1\n",
      "98 10384.032995 0.320698661266 0.92504 0.299273384354 0.9318 0.1\n",
      "99 10490.490923 0.32066541844 0.92508 0.299243246866 0.9319 0.1\n"
     ]
    }
   ],
   "source": [
    "eta = 0.1\n",
    "g_train_acc = []\n",
    "g_valid_acc = []\n",
    "for i in range(n_epoch):\n",
    "    \n",
    "    for j in range(n_batch):\n",
    "\n",
    "        ### Mini-batch creation\n",
    "        batch, one_hot_batch, mini_batch_size = getMiniBatch(j, batch_size, train_set, one_hot)\n",
    "\n",
    "        prev_time = time.clock()\n",
    "\n",
    "        ### Forward propagation\n",
    "        Y,Yp = forward(act_func, W, B, batch)\n",
    "\n",
    "        ### Compute the softmax\n",
    "        out = softmax(Y[-1])\n",
    "        \n",
    "        ### Compute the gradient at the top layer\n",
    "        derror = out-one_hot_batch\n",
    "\n",
    "        ### Backpropagation\n",
    "        gradB = backward(derror, W, Yp)\n",
    "\n",
    "        ### Update the parameters\n",
    "        W, B = update(eta, batch_size, W, B, gradB, Y)\n",
    "\n",
    "        curr_time = time.clock()\n",
    "        cumul_time += curr_time - prev_time\n",
    "\n",
    "    ### Training accuracy\n",
    "    train_loss, train_accuracy = computeLoss(W, B, train_set[0], train_set[1], act_func) \n",
    "\n",
    "    ### Valid accuracy\n",
    "    valid_loss, valid_accuracy = computeLoss(W, B, valid_set[0], valid_set[1], act_func) \n",
    "\n",
    "    result_line = str(i) + \" \" + str(cumul_time) + \" \" + str(train_loss) + \" \" + str(train_accuracy) + \" \" + str(valid_loss) + \" \" + str(valid_accuracy) + \" \" + str(eta)\n",
    "\n",
    "    #g_i = np.append(g_i, i)\n",
    "    #g_train_loss = np.append(g_train_loss, train_loss)\n",
    "    g_train_acc = np.append(g_train_acc, train_accuracy)\n",
    "    #g_valid_loss = np.append(g_valid_loss, valid_loss)\n",
    "    g_valid_acc = np.append(g_valid_acc, valid_accuracy)\n",
    "    print(result_line)"
   ]
  },
  {
   "cell_type": "code",
   "execution_count": null,
   "metadata": {
    "collapsed": true
   },
   "outputs": [],
   "source": []
  },
  {
   "cell_type": "code",
   "execution_count": null,
   "metadata": {
    "collapsed": true
   },
   "outputs": [],
   "source": []
  },
  {
   "cell_type": "code",
   "execution_count": 221,
   "metadata": {
    "collapsed": false
   },
   "outputs": [
    {
     "data": {
      "text/plain": [
       "<matplotlib.legend.Legend at 0x7fae4d9534d0>"
      ]
     },
     "execution_count": 221,
     "metadata": {},
     "output_type": "execute_result"
    },
    {
     "data": {
      "image/png": "[encoded data removed]",
      "text/plain": [
       "<matplotlib.figure.Figure at 0x7fae4d98bc10>"
      ]
     },
     "metadata": {},
     "output_type": "display_data"
    }
   ],
   "source": [
    "plt.plot(g_train_acc,label='train_acc')\n",
    "plt.plot(g_valid_acc,label='valid_acc')\n",
    "plt.title(\"accuracy RELU l2 0.01\")\n",
    "plt.xlabel(\"epoch\")\n",
    "plt.ylabel(\"accurancy\")\n",
    "plt.ylim([0.,1.])\n",
    "plt.legend(loc = \"best\")"
   ]
  },
  {
   "cell_type": "code",
   "execution_count": null,
   "metadata": {
    "collapsed": true
   },
   "outputs": [],
   "source": []
  }
 ],
 "metadata": {
  "kernelspec": {
   "display_name": "Python 2",
   "language": "python",
   "name": "python2"
  },
  "language_info": {
   "codemirror_mode": {
    "name": "ipython",
    "version": 2
   },
   "file_extension": ".py",
   "mimetype": "text/x-python",
   "name": "python",
   "nbconvert_exporter": "python",
   "pygments_lexer": "ipython2",
   "version": "2.7.12"
  }
 },
 "nbformat": 4,
 "nbformat_minor": 0
}
