{
 "cells": [
  {
   "cell_type": "code",
   "execution_count": null,
   "metadata": {
    "collapsed": false
   },
   "outputs": [],
   "source": []
  },
  {
   "cell_type": "markdown",
   "metadata": {},
   "source": [
    "# TP Keras (https://keras.io/)\n",
    "Thomas Schmitt  \n",
    "18 janvier 2017\n",
    "\n",
    "\n",
    "\n",
    "\" Keras is a high-level neural networks library, written in Python and capable of running on top of either TensorFlow or Theano. It was developed with a focus on enabling fast experimentation \"\n",
    "Keras is used at Google with TensoFlow : http://www.fast.ai/2017/01/03/keras/\n",
    "\n",
    "Why Kera : \n",
    "* used in Kaggle competition : https://pbs.twimg.com/media/C1bj1KcUsAAMv7-.jpg:large\n",
    "* popularity on github https://pbs.twimg.com/media/Cz5pmafUUAAcvxf.jpg\n",
    "* Also used in research paper : https://pbs.twimg.com/media/C1Mfr0vW8AAns2E.jpg:large\n",
    "\n"
   ]
  },
  {
   "cell_type": "markdown",
   "metadata": {},
   "source": [
    "\n",
    "## Objectifs : \n",
    "\n",
    "Tester ce que l'on a vu dans les TP précédents :\n",
    "    1. Softmax, SGD\n",
    "    2. graph train/valid accuracy\n",
    "    3. activation functions (tanh, relu, ...) \n",
    "    4. Deep\n",
    "    5. Dropout\n",
    "    6. Weights regularization\n",
    "    \n",
    "Puis essayer : \n",
    "    7. Optimizer : adam\n",
    "    8. Earlystopping (callbacks) [https://keras.io/callbacks/#earlystopping]\n",
    "    9. Visualize weigths evolution (e.g. while using or not weigths regularization) [cf handcraft callbacks]\n",
    "    10. Visualize activation evolution (e.g. to detect saturation) [cf handcraft callbacks]\n",
    "    \n",
    "    11. Use convolutional layers (should change input format : https://github.com/fchollet/keras/blob/master/examples/mnist_cnn.py)\n",
    "    "
   ]
  },
  {
   "cell_type": "code",
   "execution_count": null,
   "metadata": {
    "collapsed": true
   },
   "outputs": [],
   "source": []
  },
  {
   "cell_type": "code",
   "execution_count": 3,
   "metadata": {
    "collapsed": false,
    "scrolled": true
   },
   "outputs": [
    {
     "name": "stdout",
     "output_type": "stream",
     "text": [
      "The autoreload extension is already loaded. To reload it, use:\n",
      "  %reload_ext autoreload\n",
      "60000 train samples\n",
      "10000 test samples\n"
     ]
    },
    {
     "data": {
      "text/plain": [
       "array([[ 0.,  0.,  0., ...,  1.,  0.,  0.],\n",
       "       [ 0.,  0.,  1., ...,  0.,  0.,  0.],\n",
       "       [ 0.,  1.,  0., ...,  0.,  0.,  0.],\n",
       "       ..., \n",
       "       [ 0.,  0.,  0., ...,  0.,  0.,  0.],\n",
       "       [ 0.,  0.,  0., ...,  0.,  0.,  0.],\n",
       "       [ 0.,  0.,  0., ...,  0.,  0.,  0.]])"
      ]
     },
     "execution_count": 3,
     "metadata": {},
     "output_type": "execute_result"
    }
   ],
   "source": [
    "from __future__ import print_function, division, unicode_literals, generators, absolute_import\n",
    "%load_ext autoreload\n",
    "%autoreload 2\n",
    "import matplotlib.pyplot as plt\n",
    "%matplotlib inline\n",
    "import numpy as np\n",
    "np.random.seed(1337)  # for reproducibility\n",
    "\n",
    "from keras.datasets import mnist\n",
    "from keras.models import Sequential\n",
    "from keras.layers.core import Dense, Dropout, Activation\n",
    "from keras.optimizers import RMSprop, adam\n",
    "from keras.utils import np_utils\n",
    "from keras.objectives import  categorical_crossentropy\n",
    "from keras.callbacks import Callback, EarlyStopping\n",
    "from keras import backend as K\n",
    "from keras.utils import np_utils\n",
    "\n",
    "\n",
    "# the data, shuffled and split between train and test sets\n",
    "(X_train, y_train), (X_test, y_test) = mnist.load_data()\n",
    "\n",
    "X_train = X_train.reshape(60000, 784)\n",
    "X_test = X_test.reshape(10000, 784)\n",
    "X_train = X_train.astype('float32')\n",
    "X_test = X_test.astype('float32')\n",
    "X_train /= 255\n",
    "X_test /= 255\n",
    "print(X_train.shape[0], 'train samples')\n",
    "print(X_test.shape[0], 'test samples')\n",
    "\n",
    "# convert class vectors to binary class matrices\n",
    "nb_classes = 10\n",
    "Y_train = np_utils.to_categorical(y_train, nb_classes)\n",
    "Y_test = np_utils.to_categorical(y_test, nb_classes)\n"
   ]
  },
  {
   "cell_type": "markdown",
   "metadata": {},
   "source": [
    "# Model"
   ]
  },
  {
   "cell_type": "code",
   "execution_count": 6,
   "metadata": {
    "collapsed": true
   },
   "outputs": [],
   "source": [
    "def loss_fct(y_true, y_pred):\n",
    "    \n",
    "    \n",
    "    # l2 = 0.001 * (model.layers[0].W**2).sum()\n",
    "    l2 = 0\n",
    "    return categorical_crossentropy(y_true, y_pred) + l2\n",
    "    \n"
   ]
  },
  {
   "cell_type": "code",
   "execution_count": 29,
   "metadata": {
    "collapsed": false,
    "scrolled": true
   },
   "outputs": [
    {
     "name": "stdout",
     "output_type": "stream",
     "text": [
      "____________________________________________________________________________________________________\n",
      "Layer (type)                     Output Shape          Param #     Connected to                     \n",
      "====================================================================================================\n",
      "dense_46 (Dense)                 (None, 800)           628000      dense_input_20[0][0]             \n",
      "____________________________________________________________________________________________________\n",
      "dense_47 (Dense)                 (None, 800)           640800      dense_46[0][0]                   \n",
      "____________________________________________________________________________________________________\n",
      "dense_48 (Dense)                 (None, 10)            8010        dense_47[0][0]                   \n",
      "====================================================================================================\n",
      "Total params: 1,276,810\n",
      "Trainable params: 1,276,810\n",
      "Non-trainable params: 0\n",
      "____________________________________________________________________________________________________\n",
      "Train on 60000 samples, validate on 10000 samples\n",
      "Epoch 1/5\n",
      "60000/60000 [==============================] - 20s - loss: 0.1973 - acc: 0.9393 - val_loss: 0.0980 - val_acc: 0.9688\n",
      "Epoch 2/5\n",
      "60000/60000 [==============================] - 20s - loss: 0.0767 - acc: 0.9765 - val_loss: 0.0820 - val_acc: 0.9754\n",
      "Epoch 3/5\n",
      "60000/60000 [==============================] - 20s - loss: 0.0496 - acc: 0.9839 - val_loss: 0.0793 - val_acc: 0.9747\n",
      "Epoch 4/5\n",
      "60000/60000 [==============================] - 20s - loss: 0.0368 - acc: 0.9879 - val_loss: 0.0991 - val_acc: 0.9739\n",
      "Epoch 5/5\n",
      "60000/60000 [==============================] - 20s - loss: 0.0299 - acc: 0.9904 - val_loss: 0.0753 - val_acc: 0.9787\n",
      " 9952/10000 [============================>.] - ETA: 0s\n",
      "Test score: 0.0752828713375\n",
      "Test accuracy: 0.9787\n"
     ]
    }
   ],
   "source": [
    "def model_keras():\n",
    "\n",
    "    \"\"\" return a NN model \"\"\"\n",
    "    model = Sequential()\n",
    "\n",
    "    model.add(Dense(800, input_shape=(784,), activation='relu'))\n",
    "    #model.add(Dropout(0.5))\n",
    "    model.add(Dense(800, activation='tanh'))\n",
    "    #model.add(Dropout(0.8))\n",
    "    model.add(Dense(10, activation='softmax'))\n",
    "    \n",
    "    \n",
    "    \n",
    "    model.compile(loss=loss_fct,\n",
    "              optimizer='adam', #'adam'\n",
    "              metrics=['accuracy'])\n",
    "        \n",
    "    model.summary()    \n",
    "    return model\n",
    "\n",
    "model = model_keras()\n",
    "\n",
    "\n",
    "\n",
    "batch_size = 128\n",
    "nb_epoch = 5\n",
    "\n",
    "history = model.fit(X_train, Y_train,\n",
    "                    batch_size=batch_size, nb_epoch=nb_epoch,\n",
    "                    callbacks=[],\n",
    "                    verbose=1, validation_data=(X_test, Y_test))\n",
    "\n",
    "score = model.evaluate(X_test, Y_test, verbose=1)\n",
    "print()\n",
    "print('Test score:', score[0] ) # loss \n",
    "print('Test accuracy:', score[1]) \n"
   ]
  },
  {
   "cell_type": "code",
   "execution_count": 26,
   "metadata": {
    "collapsed": false
   },
   "outputs": [
    {
     "data": {
      "text/plain": [
       "<matplotlib.legend.Legend at 0x7f8dc1fbe950>"
      ]
     },
     "execution_count": 26,
     "metadata": {},
     "output_type": "execute_result"
    },
    {
     "data": {
      "image/png": "[encoded data removed]",
      "text/plain": [
       "<matplotlib.figure.Figure at 0x7f8dc2b2eb50>"
      ]
     },
     "metadata": {},
     "output_type": "display_data"
    }
   ],
   "source": [
    "plt.plot(history.history['acc'],label = 'acc train')\n",
    "plt.plot(history.history['val_acc'],label = 'acc val')\n",
    "plt.legend(loc = 4)"
   ]
  },
  {
   "cell_type": "code",
   "execution_count": null,
   "metadata": {
    "collapsed": true
   },
   "outputs": [],
   "source": []
  },
  {
   "cell_type": "code",
   "execution_count": null,
   "metadata": {
    "collapsed": true
   },
   "outputs": [],
   "source": []
  },
  {
   "cell_type": "code",
   "execution_count": null,
   "metadata": {
    "collapsed": true
   },
   "outputs": [],
   "source": []
  },
  {
   "cell_type": "code",
   "execution_count": null,
   "metadata": {
    "collapsed": true
   },
   "outputs": [],
   "source": []
  },
  {
   "cell_type": "markdown",
   "metadata": {},
   "source": [
    "### Advanced Callback"
   ]
  },
  {
   "cell_type": "code",
   "execution_count": 5,
   "metadata": {
    "collapsed": true
   },
   "outputs": [],
   "source": [
    "## advanced callback \n",
    "\n",
    "class WeightNorm(Callback):\n",
    "\n",
    "    \"\"\" callback object \"\"\"\n",
    "    def __init__(self):\n",
    "        pass\n",
    "\n",
    "    def on_epoch_end(self, epoch, logs={}):\n",
    "        \"\"\" run it at every epoch's end \"\"\"\n",
    "        \n",
    "        m = self.model\n",
    "        pred_layer_1 = K.function([m.layers[0].input, K.learning_phase()], [m.layers[1].output])\n",
    "        act_layer_1, = pred_layer_1([X_train[0:100], 1])\n",
    "        median_act_layer_1 = np.median(act_layer_1)\n",
    "        \n",
    "        norm_W0 = np.sqrt(((self.model.layers[0].W.get_value())**2).sum())\n",
    "        \n",
    "        # add info in the logs variable. Which will be store in history.history       \n",
    "        logs['median_act'] = median_act_layer_1\n",
    "        logs['norm_w0'] = norm_W0\n"
   ]
  },
  {
   "cell_type": "code",
   "execution_count": 6,
   "metadata": {
    "collapsed": false
   },
   "outputs": [
    {
     "data": {
      "text/plain": [
       "{'acc': [0.7356499999682109,\n",
       "  0.85803333330154419,\n",
       "  0.87833333336512243,\n",
       "  0.88780000003178916,\n",
       "  0.89444999996821084],\n",
       " 'loss': [1.0811232949574789,\n",
       "  0.56971814351081851,\n",
       "  0.46491663333574929,\n",
       "  0.41490071600278217,\n",
       "  0.38410928972562153],\n",
       " 'val_acc': [0.85289999999999999,\n",
       "  0.8821,\n",
       "  0.89400000000000002,\n",
       "  0.90110000000000001,\n",
       "  0.90549999999999997],\n",
       " 'val_loss': [0.64441883282661439,\n",
       "  0.47889740505218503,\n",
       "  0.4137451446533203,\n",
       "  0.3772171761035919,\n",
       "  0.35353213772773745]}"
      ]
     },
     "execution_count": 6,
     "metadata": {},
     "output_type": "execute_result"
    }
   ],
   "source": [
    "history.history"
   ]
  },
  {
   "cell_type": "code",
   "execution_count": 2,
   "metadata": {
    "collapsed": false
   },
   "outputs": [
    {
     "ename": "NameError",
     "evalue": "name 'history' is not defined",
     "output_type": "error",
     "traceback": [
      "\u001b[0;31m---------------------------------------------------------------------------\u001b[0m",
      "\u001b[0;31mNameError\u001b[0m                                 Traceback (most recent call last)",
      "\u001b[0;32m<ipython-input-2-ec3f63a62a89>\u001b[0m in \u001b[0;36m<module>\u001b[0;34m()\u001b[0m\n\u001b[0;32m----> 1\u001b[0;31m \u001b[0mplt\u001b[0m\u001b[0;34m.\u001b[0m\u001b[0mplot\u001b[0m\u001b[0;34m(\u001b[0m\u001b[0mhistory\u001b[0m\u001b[0;34m.\u001b[0m\u001b[0mhistory\u001b[0m\u001b[0;34m[\u001b[0m\u001b[0;34m'norm_w0'\u001b[0m\u001b[0;34m]\u001b[0m\u001b[0;34m)\u001b[0m\u001b[0;34m\u001b[0m\u001b[0m\n\u001b[0m",
      "\u001b[0;31mNameError\u001b[0m: name 'history' is not defined"
     ]
    }
   ],
   "source": [
    "plt.pot(history.history['norm_w0'])"
   ]
  }
 ],
 "metadata": {
  "kernelspec": {
   "display_name": "Python 2",
   "language": "python",
   "name": "python2"
  },
  "language_info": {
   "codemirror_mode": {
    "name": "ipython",
    "version": 2
   },
   "file_extension": ".py",
   "mimetype": "text/x-python",
   "name": "python",
   "nbconvert_exporter": "python",
   "pygments_lexer": "ipython2",
   "version": "2.7.12"
  }
 },
 "nbformat": 4,
 "nbformat_minor": 0
}
